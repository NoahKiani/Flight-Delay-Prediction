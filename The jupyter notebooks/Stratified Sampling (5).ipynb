{
 "cells": [
  {
   "cell_type": "markdown",
   "id": "6e413536",
   "metadata": {},
   "source": [
    "# Some more data preparation <br>\n",
    "Moving on from the first model tryout, I came to the conclusion that I should do some more data preparation in terms of stratified sampling. I chose to evenly represent Aiport Region, distance category and season in the sample. This is because there are so many airports, but some are so small that almost no flights are taken place there. That is why I chose aiport region in there. I also took season over month into account when making the sample. This is too make things not too complex because there are only 4 seasons and 12 months. I also chose a sample of 20000 because I tried training an SVR and this was about the maximum sample which had decent training time."
   ]
  },
  {
   "cell_type": "code",
   "execution_count": 1,
   "id": "5bfbac49",
   "metadata": {},
   "outputs": [
    {
     "name": "stdout",
     "output_type": "stream",
     "text": [
      "South-West    5478\n",
      "North-East    5346\n",
      "South-East    4314\n",
      "North-West    3523\n",
      "Name: Airport_Region, dtype: int64\n",
      "0-1000       9576\n",
      "1000-2000    3971\n",
      "2000-3000    2109\n",
      "3000-4000    1439\n",
      "4000-5000    1428\n",
      "5000-6000     138\n",
      "Name: DISTANCE_CATEGORY, dtype: int64\n",
      "Zomer     5027\n",
      "Winter    4862\n",
      "Lente     4708\n",
      "Herfst    4064\n",
      "Name: Seizoen, dtype: int64\n"
     ]
    }
   ],
   "source": [
    "import pandas as pd\n",
    "\n",
    "\n",
    "data = pd.read_csv('met_seizoen.csv')\n",
    "\n",
    "\n",
    "total_sample_size = 20000\n",
    "\n",
    "\n",
    "unique_airport_regions = data['Airport_Region'].nunique()\n",
    "unique_distance_categories = data['DISTANCE_CATEGORY'].nunique()\n",
    "unique_seasons = data['Seizoen'].nunique()\n",
    "\n",
    "\n",
    "total_unique_values = unique_airport_regions + unique_distance_categories + unique_seasons\n",
    "\n",
    "sample_per_value = total_sample_size // total_unique_values\n",
    "\n",
    "\n",
    "samples_airport_region = data.groupby('Airport_Region').apply(lambda x: x.sample(min(len(x), sample_per_value), random_state=42)).reset_index(drop=True)\n",
    "samples_distance_category = data.groupby('DISTANCE_CATEGORY').apply(lambda x: x.sample(min(len(x), sample_per_value), random_state=42)).reset_index(drop=True)\n",
    "samples_season = data.groupby('Seizoen').apply(lambda x: x.sample(min(len(x), sample_per_value), random_state=42)).reset_index(drop=True)\n",
    "\n",
    "\n",
    "final_sample = pd.concat([samples_airport_region, samples_distance_category, samples_season])\n",
    "\n",
    "\n",
    "final_sample = final_sample.drop_duplicates()\n",
    "\n",
    "\n",
    "if len(final_sample) > total_sample_size:\n",
    "    final_sample = final_sample.sample(total_sample_size, random_state=42)\n",
    "\n",
    "\n",
    "print(final_sample['Airport_Region'].value_counts())\n",
    "print(final_sample['DISTANCE_CATEGORY'].value_counts())\n",
    "print(final_sample['Seizoen'].value_counts())\n",
    "\n",
    "final_sample.to_csv('sample20000.csv', index = False) #this csv will be the input for the SVM\n"
   ]
  }
 ],
 "metadata": {
  "kernelspec": {
   "display_name": "Python 3 (ipykernel)",
   "language": "python",
   "name": "python3"
  },
  "language_info": {
   "codemirror_mode": {
    "name": "ipython",
    "version": 3
   },
   "file_extension": ".py",
   "mimetype": "text/x-python",
   "name": "python",
   "nbconvert_exporter": "python",
   "pygments_lexer": "ipython3",
   "version": "3.11.4"
  }
 },
 "nbformat": 4,
 "nbformat_minor": 5
}
